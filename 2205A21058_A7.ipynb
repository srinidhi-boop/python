{
  "nbformat": 4,
  "nbformat_minor": 0,
  "metadata": {
    "colab": {
      "provenance": [],
      "authorship_tag": "ABX9TyOnERqTjvf3nyKVjyaGB1Ku",
      "include_colab_link": true
    },
    "kernelspec": {
      "name": "python3",
      "display_name": "Python 3"
    },
    "language_info": {
      "name": "python"
    }
  },
  "cells": [
    {
      "cell_type": "markdown",
      "metadata": {
        "id": "view-in-github",
        "colab_type": "text"
      },
      "source": [
        "<a href=\"https://colab.research.google.com/github/srinidhi-boop/python/blob/main/2205A21058_A7.ipynb\" target=\"_parent\"><img src=\"https://colab.research.google.com/assets/colab-badge.svg\" alt=\"Open In Colab\"/></a>"
      ]
    },
    {
      "cell_type": "code",
      "execution_count": 3,
      "metadata": {
        "colab": {
          "base_uri": "https://localhost:8080/"
        },
        "id": "vfRhH3rh9YQ3",
        "outputId": "8b716a3d-9327-43b1-f903-6ba2fe153917"
      },
      "outputs": [
        {
          "output_type": "stream",
          "name": "stdout",
          "text": [
            "enter receving end voltage220000\n",
            "enter resistance per phase per km0.15\n",
            "enter inductance per phase per km0.0013262\n",
            "enter length of tline40\n",
            "enter power factor0.8\n",
            "enter aperent power381000000\n",
            "0:leading,1:lagging0\n",
            "voltage_regulation= 11.908070744748008\n",
            "(322795165.28925616+278557793.9791735j)\n",
            "Sending power: 322795165.28925616\n",
            "Efficiency: 94.42520606740479\n"
          ]
        }
      ],
      "source": [
        "import math as mt\n",
        "vr=float(input(\"enter receving end voltage\"))\n",
        "r=float(input(\"enter resistance per phase per km\"))\n",
        "l=float(input(\"enter inductance per phase per km\"))\n",
        "length=float(input(\"enter length of tline\"))\n",
        "pf=float(input(\"enter power factor\"))\n",
        "load=float(input(\"enter aperent power\"))\n",
        "type_pf=int(input(\"0:leading,1:lagging\"))\n",
        "vr_phase=vr/mt.sqrt(3)\n",
        "R=r*length\n",
        "L=l*length\n",
        "X=2*3.14*50*L\n",
        "z=complex(R,X)\n",
        "P=load*pf\n",
        "Q=load*mt.sqrt(1-pf**2)\n",
        "if(type_pf==0):\n",
        "  S=complex(P,Q)\n",
        "else:\n",
        "  S=complex(P,-Q)\n",
        "S=complex(P,Q)\n",
        "IR=(S.conjugate())/(3*vr_phase)\n",
        "VS=vr_phase+z*IR\n",
        "voltage_regulation=(abs(VS)-vr_phase)*100/vr_phase\n",
        "print(\"voltage_regulation=\",voltage_regulation)\n",
        "Ssend=3*VS*IR.conjugate()\n",
        "print(Ssend)\n",
        "Psend=Ssend.real\n",
        "print(\"Sending power:\",Psend)\n",
        "eff=P*100/Psend\n",
        "print(\"Efficiency:\",eff)"
      ]
    }
  ]
}