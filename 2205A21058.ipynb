{
  "nbformat": 4,
  "nbformat_minor": 0,
  "metadata": {
    "colab": {
      "provenance": [],
      "authorship_tag": "ABX9TyP+d8dhnGQ+uUeU1zkf0mWX",
      "include_colab_link": true
    },
    "kernelspec": {
      "name": "python3",
      "display_name": "Python 3"
    },
    "language_info": {
      "name": "python"
    }
  },
  "cells": [
    {
      "cell_type": "markdown",
      "metadata": {
        "id": "view-in-github",
        "colab_type": "text"
      },
      "source": [
        "<a href=\"https://colab.research.google.com/github/srinidhi-boop/python/blob/main/2205A21058.ipynb\" target=\"_parent\"><img src=\"https://colab.research.google.com/assets/colab-badge.svg\" alt=\"Open In Colab\"/></a>"
      ]
    },
    {
      "cell_type": "code",
      "execution_count": 2,
      "metadata": {
        "colab": {
          "base_uri": "https://localhost:8080/"
        },
        "id": "8kCLjFa4Ogj-",
        "outputId": "b814e0ba-6bfd-4d62-8d7c-f9885cc56064"
      },
      "outputs": [
        {
          "output_type": "stream",
          "name": "stdout",
          "text": [
            "Enter the previous units7144\n",
            "Enter the current units7183\n",
            "Enter the type of customer0\n",
            "current date and time 2024-09-09 10:28:22.577033\n",
            "TGNPDCL\n",
            "Present_KWH: Current_units 7183.0\n",
            "Previous_KWH: Previous_units 7144.0\n",
            "Units consumed:  39.0\n",
            "Energy charges:  76.05\n",
            "Fixed charges:  10\n",
            "Customer charges:  40\n",
            "Electricity Duty charges:  2.34\n",
            "Units consumed:  39.0\n",
            "Bill amount:  128.39\n"
          ]
        }
      ],
      "source": [
        "Previous_units = float(input(\"Enter the previous units\"))\n",
        "Current_units = float(input(\"Enter the current units\"))\n",
        "Type_of_customer = int(input(\"Enter the type of customer\"))\n",
        "import datetime\n",
        "now=datetime.datetime.now()\n",
        "print(\"current date and time\",now)\n",
        "formatted_now=now.strftime(\"%Y-%m-%d %H:%M:%S\")\n",
        "count=0\n",
        "\n",
        "Units = Current_units - Previous_units\n",
        "Electricity_Duty_charges = 0.06 * Units\n",
        "\n",
        "if (Type_of_customer == 0):\n",
        "  if (Units <= 100):\n",
        "    if (Units <= 50):\n",
        "      Energy_charges = 1.95*Units\n",
        "      Fixed_charges = 10\n",
        "      Customer_charges = 40\n",
        "    else:\n",
        "      Energy_charges = 3.10 * Units\n",
        "      Fixed_charges = 10\n",
        "      Customer_charges = 70\n",
        "  else:\n",
        "    if (Units > 100 and Units <= 200):\n",
        "      Energy_charges = 3.4 * 100 + (Units - 100) * 4.8\n",
        "      Fixed_charges = 10\n",
        "      Customer_charges = 90\n",
        "    else:\n",
        "      print(\"Application not supported\")\n",
        "      count = count + 1\n",
        "if (Type_of_customer == 1):\n",
        "  if (Units <= 50):\n",
        "    Energy_charges = 7 * Units\n",
        "    Fixed_charges = 60\n",
        "    Customer_charges = 50\n",
        "  else:\n",
        "    print(\"Application not supported\")\n",
        "    count = count + 1\n",
        "if (Type_of_customer == 2):\n",
        "  Energy_charges = 13 * Units\n",
        "  Fixed_charges = 70\n",
        "  Customer_charges = 160\n",
        "\n",
        "Bill_amount = Energy_charges + Fixed_charges + Customer_charges + Electricity_Duty_charges\n",
        "\n",
        "if (count == 0):\n",
        "  print(\"TGNPDCL\")\n",
        "  print(\"Present_KWH: Current_units\",Current_units)\n",
        "  print(\"Previous_KWH: Previous_units\",Previous_units)\n",
        "  print(\"Units consumed: \",Units)\n",
        "  print(\"Energy charges: \",Energy_charges)\n",
        "  print(\"Fixed charges: \",Fixed_charges)\n",
        "  print(\"Customer charges: \",Customer_charges)\n",
        "  print(\"Electricity Duty charges: \",Electricity_Duty_charges)\n",
        "  print(\"Units consumed: \",Units)\n",
        "  print(\"Bill amount: \",Bill_amount)"
      ]
    },
    {
      "cell_type": "code",
      "source": [
        "\n",
        "import datetime\n",
        "now=datetime.datetime.now()\n",
        "print(\"current date and time:\",now)\n",
        "formatted_now=now.strftime(\"%Y-%m-%d %H:%M:%S\")\n",
        "\n",
        "\n",
        "count=0\n",
        "pu=int(input(\"enter previous month units:\"))\n",
        "cu=int(input(\"enter current month units:\"))\n",
        "tc=int(input(\"enter type of customer 0;res 1;com 2;adv\"))\n",
        "u=cu-pu\n",
        "ed=0.06*u\n",
        "if(tc==0):\n",
        "  if(u<=100):\n",
        "    if(u<=50):\n",
        "       ec=1.95*u\n",
        "       fc=10\n",
        "       cc=40\n",
        "  else:\n",
        "        ec=3.10*u\n",
        "        fc=10\n",
        "        cc=70\n",
        "else:\n",
        "        if(u>100 and u<=200):\n",
        "           ec=100*3.14+(u-100)*4.8\n",
        "           fc=10\n",
        "           cc=90\n",
        "        else:\n",
        "            print(\"this application is not supported\")\n",
        "            count=count+1\n",
        "if(tc==1):\n",
        "  if(u<=50):\n",
        "    ec=7*u\n",
        "    fc=60\n",
        "    cc=50\n",
        "  else:\n",
        "    print(\"this application is not supported\")\n",
        "    count=count+1\n",
        "if(tc==2):\n",
        "  ec=13*u\n",
        "  fc=70\n",
        "  cc=160\n",
        "\n",
        "if(count==0):\n",
        "  bill_amount=ec+fc+cc+ed\n",
        "  print(\"----------------------\")\n",
        "  print(\"TGNPDCL\")\n",
        "  print(\"formatted date and time:\",formatted_now)\n",
        "  print(\"----------------------\")\n",
        "  print(\"previous units=\",pu)\n",
        "  print(\"present units=\",cu)\n",
        "  print(\"energy consumed=\",u)\n",
        "  print(\"energy charges=\",ec)\n",
        "  print(\"fixed charges=\",fc)\n",
        "  print(\"customer charges=\",cc)\n",
        "  print(\"electricity duty=\",ed)\n",
        "  print(\"bill_amount=\",bill_amount)\n",
        "  print(\"---------------------\")"
      ],
      "metadata": {
        "colab": {
          "base_uri": "https://localhost:8080/"
        },
        "id": "kafhD5IfXIrn",
        "outputId": "4e167c17-d011-43b0-c2a0-a9066671a011"
      },
      "execution_count": 7,
      "outputs": [
        {
          "output_type": "stream",
          "name": "stdout",
          "text": [
            "current date and time: 2024-09-09 10:59:02.313245\n",
            "enter previous month units:7144\n",
            "enter current month units:7183\n",
            "enter type of customer 0;res 1;com 2;adv00\n",
            "----------------------\n",
            "TGNPDCL\n",
            "formatted date and time: 2024-09-09 10:59:02\n",
            "----------------------\n",
            "previous units= 7144\n",
            "present units= 7183\n",
            "energy consumed= 39\n",
            "energy charges= 76.05\n",
            "fixed charges= 10\n",
            "customer charges= 40\n",
            "electricity duty= 2.34\n",
            "bill_amount= 128.39\n",
            "---------------------\n"
          ]
        }
      ]
    }
  ]
}