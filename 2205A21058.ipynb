{
  "nbformat": 4,
  "nbformat_minor": 0,
  "metadata": {
    "colab": {
      "provenance": [],
      "authorship_tag": "ABX9TyN/XnJN1IfHQaKsEQQs6X+o",
      "include_colab_link": true
    },
    "kernelspec": {
      "name": "python3",
      "display_name": "Python 3"
    },
    "language_info": {
      "name": "python"
    }
  },
  "cells": [
    {
      "cell_type": "markdown",
      "metadata": {
        "id": "view-in-github",
        "colab_type": "text"
      },
      "source": [
        "<a href=\"https://colab.research.google.com/github/srinidhi-boop/python/blob/main/2205A21058.ipynb\" target=\"_parent\"><img src=\"https://colab.research.google.com/assets/colab-badge.svg\" alt=\"Open In Colab\"/></a>"
      ]
    },
    {
      "cell_type": "code",
      "execution_count": 2,
      "metadata": {
        "colab": {
          "base_uri": "https://localhost:8080/"
        },
        "id": "35hRvC9LaWvx",
        "outputId": "f5ebc788-73eb-4ab1-c415-31aa551ed1c0"
      },
      "outputs": [
        {
          "output_type": "stream",
          "name": "stdout",
          "text": [
            "Current date and time: 2024-09-24 14:25:21.077853\n",
            "Enter previous units: 7144\n",
            "Enter current units: 7183\n",
            "0:res,1:com,2:adv0\n",
            "===================================\n",
            "            TGNPDCL                \n",
            "Formatted date and time: 2024-09-24 14:25:21\n",
            "===================================\n",
            "Previous units=  7144\n",
            "currents units=  7183\n",
            "units consumed=  39\n",
            "energy charges=  10\n",
            "fixed charges=  40\n",
            "customer charges=  2.34\n",
            "Electricity duty charges  76.05\n",
            "bill amount=  128.39\n",
            "============================\n"
          ]
        }
      ],
      "source": [
        "import datetime\n",
        "import tgnpdclbill as tgn\n",
        "now = datetime.datetime.now()\n",
        "print(\"Current date and time:\", now)\n",
        "formatted_now = now.strftime(\"%Y-%m-%d %H:%M:%S\")\n",
        "\n",
        "pu=int(input(\"Enter previous units: \"))\n",
        "cu=int(input(\"Enter current units: \"))\n",
        "type=int(input(\"0:res,1:com,2:adv\"))\n",
        "u=cu-pu\n",
        "if(type==0):\n",
        "   [ed,ec,fc,cc,bill_ammount]=tgn.res(pu,cu)\n",
        "if(type==1):\n",
        "   [ed,ec,fc,cc,bill_ammount]=tgn.com(pu,cu)\n",
        "if(type==2):\n",
        "   [ed,ec,fc,cc,bill_ammount]=tgn.adv(pu,cu)\n",
        "\n",
        "\n",
        "print(\"===================================\")\n",
        "print('            TGNPDCL                ')\n",
        "print(\"Formatted date and time:\",formatted_now)\n",
        "print(\"===================================\")\n",
        "print(\"Previous units= \",pu)\n",
        "print(\"currents units= \",cu)\n",
        "print(\"units consumed= \",u)\n",
        "print(\"energy charges= \",ec)\n",
        "print(\"fixed charges= \",fc)\n",
        "print(\"customer charges= \",cc)\n",
        "print(\"Electricity duty charges \",ed)\n",
        "print(\"bill amount= \",bill_ammount)\n",
        "print(\"============================\")"
      ]
    }
  ]
}