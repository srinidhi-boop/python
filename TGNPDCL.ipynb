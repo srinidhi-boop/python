{
  "nbformat": 4,
  "nbformat_minor": 0,
  "metadata": {
    "colab": {
      "provenance": [],
      "authorship_tag": "ABX9TyMTfob8RHNqRfCzAMOALR+z",
      "include_colab_link": true
    },
    "kernelspec": {
      "name": "python3",
      "display_name": "Python 3"
    },
    "language_info": {
      "name": "python"
    }
  },
  "cells": [
    {
      "cell_type": "markdown",
      "metadata": {
        "id": "view-in-github",
        "colab_type": "text"
      },
      "source": [
        "<a href=\"https://colab.research.google.com/github/srinidhi-boop/python/blob/main/TGNPDCL.ipynb\" target=\"_parent\"><img src=\"https://colab.research.google.com/assets/colab-badge.svg\" alt=\"Open In Colab\"/></a>"
      ]
    },
    {
      "cell_type": "code",
      "execution_count": null,
      "metadata": {
        "id": "J2PjFJbLXz7e"
      },
      "outputs": [],
      "source": [
        "import datetime\n",
        "import tgnpdcl_power_bill\n",
        "now = datetime.datetime.now()\n",
        "print(\"Current date and time:\", now)\n",
        "formatted_now = now.strftime(\"%Y-%m-%d %H:%M:%S\")\n",
        "pu=int(input(\"enter the pu units:\"))\n",
        "cu=int(input(\"enter the cu units:\"))\n",
        "u=cu-pu\n",
        "customer=int(input(\"enter the customer type: 0;res 1;com 2;adv\"))\n",
        "if(customer==0):\n",
        "  [ec,fc,cc,ed,bill_amount]=tgnpdcl_power_bill.res(pu,cu)\n",
        "if(customer==1):\n",
        "  [ec,fc,cc,ed,bill_amount]=tgnpdcl_power_bill.com(pu,cu)\n",
        "if(customer==2):\n",
        "  [ec,fc,cc,ed,bill_amount]=tgnpdcl_power_bill.adv(pu,cu)\n",
        "print(\"------------------------------------------------\")\n",
        "print(\"TGNPDCL Telangana Northen Power Distribution Company Limited\")\n",
        "print(\"Formatted date and time:\",formatted_now)\n",
        "print(\"------------------------------------------------\")\n",
        "print(\"present units=\",cu)\n",
        "print(\"previous units=\",pu)\n",
        "print(\"units consumed=\",u)\n",
        "print(\"energy charges=\",ec)\n",
        "print(\"fixed charges=\",fc)\n",
        "print(\"customer charges=\",cc)\n",
        "print(\"electricity duty charges=\",ed)\n",
        "print(\"bill_amount=\",bill_amount)\n",
        "print(\"------------------------------------------------\")"
      ]
    }
  ]
}