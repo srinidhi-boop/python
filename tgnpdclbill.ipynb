{
  "nbformat": 4,
  "nbformat_minor": 0,
  "metadata": {
    "colab": {
      "provenance": [],
      "authorship_tag": "ABX9TyP4Bg3Nipmih4RaGrvd8zx/",
      "include_colab_link": true
    },
    "kernelspec": {
      "name": "python3",
      "display_name": "Python 3"
    },
    "language_info": {
      "name": "python"
    }
  },
  "cells": [
    {
      "cell_type": "markdown",
      "metadata": {
        "id": "view-in-github",
        "colab_type": "text"
      },
      "source": [
        "<a href=\"https://colab.research.google.com/github/srinidhi-boop/python/blob/main/tgnpdclbill.ipynb\" target=\"_parent\"><img src=\"https://colab.research.google.com/assets/colab-badge.svg\" alt=\"Open In Colab\"/></a>"
      ]
    },
    {
      "cell_type": "code",
      "execution_count": 1,
      "metadata": {
        "id": "uY6k5lxHM8Hm"
      },
      "outputs": [],
      "source": [
        "def res(pu,cu):\n",
        "  u=cu-pu\n",
        "  ed=0.06*u\n",
        "  if(u==0):\n",
        "    ec=50\n",
        "    fc=10\n",
        "    cc=40\n",
        "  if(u>0 and u<=100):\n",
        "    if(u<=50):\n",
        "     ec=1.95*u\n",
        "     fc=10\n",
        "     cc=40\n",
        "    else:\n",
        "      ec=3.1*u\n",
        "      fc=10\n",
        "      cc=70\n",
        "  else:\n",
        "   if(u>100 and u<=200):\n",
        "     ec=100*3.40+(u-100)*4.8\n",
        "     fc=10\n",
        "     cc=90\n",
        "   else:\n",
        "    print(\"application is not supported\")\n",
        "  bill_amount=ec+fc+cc+ed\n",
        "  return ec,fc,cc,ed,bill_amount"
      ]
    },
    {
      "cell_type": "code",
      "source": [
        "def com(pu,cu):\n",
        "  u=cu-pu\n",
        "  ed=0.06*u\n",
        "  if(u<=50):\n",
        "    ec=7*u\n",
        "    fc=60\n",
        "    cc=50\n",
        "  else:\n",
        "    print(\"application is not supported\")\n",
        "  bill_amount=ec+fc+cc+ed\n",
        "  return ec,fc,cc,ed,bill_amount"
      ],
      "metadata": {
        "id": "Uk7J0YYwNTKJ"
      },
      "execution_count": 2,
      "outputs": []
    },
    {
      "cell_type": "code",
      "source": [
        "def adv(pu,cu):\n",
        "  u=cu-pu\n",
        "  ed=0.06*u\n",
        "  if(u>0):\n",
        "   ec=13*u\n",
        "   fc=70\n",
        "   cc=160\n",
        "  else:\n",
        "    ec=300\n",
        "    fc=70\n",
        "    cc=160\n",
        "  bill_ammount=ed+ec+fc+cc\n",
        "  return ed,ec,fc,cc,bill_ammount"
      ],
      "metadata": {
        "id": "Y4U5bFndNjFh"
      },
      "execution_count": 3,
      "outputs": []
    }
  ]
}