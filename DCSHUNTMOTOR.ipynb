{
  "nbformat": 4,
  "nbformat_minor": 0,
  "metadata": {
    "colab": {
      "provenance": [],
      "authorship_tag": "ABX9TyMi5kn6yBjKjqwaQETS4Oai",
      "include_colab_link": true
    },
    "kernelspec": {
      "name": "python3",
      "display_name": "Python 3"
    },
    "language_info": {
      "name": "python"
    }
  },
  "cells": [
    {
      "cell_type": "markdown",
      "metadata": {
        "id": "view-in-github",
        "colab_type": "text"
      },
      "source": [
        "<a href=\"https://colab.research.google.com/github/srinidhi-boop/python/blob/main/DCSHUNTMOTOR.ipynb\" target=\"_parent\"><img src=\"https://colab.research.google.com/assets/colab-badge.svg\" alt=\"Open In Colab\"/></a>"
      ]
    },
    {
      "cell_type": "code",
      "execution_count": 1,
      "metadata": {
        "id": "kIBm5UyHtDU_"
      },
      "outputs": [],
      "source": [
        "def armature_current(V,Il,Rsh):\n",
        "  armature_current=Il-V/Rsh\n",
        "  return armature_current\n",
        "  def copper_losses(V,Il,Rsh,Ra):\n",
        "    copper_losses=V*2/Rsh*2*Rsh+(Il-V/Rsh)*Ra\n",
        "    return copper_losses\n",
        "  def efficiency(V,Il,Rsh,Ra):\n",
        "    efficiency=V*Il-CUL-CL/V*IL*100\n",
        "    return efficiency\n",
        "\n",
        "\n"
      ]
    }
  ]
}